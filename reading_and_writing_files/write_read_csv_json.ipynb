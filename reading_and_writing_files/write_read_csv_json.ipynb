{
 "cells": [
  {
   "cell_type": "markdown",
   "id": "aa6ab2d9-5619-4400-b6d6-4b39c7008767",
   "metadata": {},
   "source": [
    "# **Reading and Writing Files**"
   ]
  },
  {
   "cell_type": "markdown",
   "id": "e4d3bf53-84c3-4295-8e0e-e1e9824b316c",
   "metadata": {},
   "source": [
    "#### **1. Writing Data to a CSV File**"
   ]
  },
  {
   "cell_type": "code",
   "execution_count": 9,
   "id": "2e94dce6-f9ab-4ddd-9599-7294ab11b14e",
   "metadata": {},
   "outputs": [],
   "source": [
    "import csv\n",
    "from faker import Faker\n",
    "\n",
    "# Use a context manager to ensure the file is properly closed\n",
    "with open('write_data_to_csv.csv', 'w', newline='') as output:\n",
    "    mywriter = csv.writer(output)\n",
    "\n",
    "    header = ['name', 'age', 'street', 'city', 'state', 'zip', 'lng', 'lat']\n",
    "    mywriter.writerow(header)\n",
    "\n",
    "    fake = Faker()\n",
    "\n",
    "    for _ in range(1000):\n",
    "        mywriter.writerow([\n",
    "            fake.name(),\n",
    "            fake.random_int(min=18, max=80, step=1),\n",
    "            fake.street_address(),\n",
    "            fake.city(),\n",
    "            fake.state(),\n",
    "            fake.zipcode(),\n",
    "            fake.longitude(),\n",
    "            fake.latitude()\n",
    "        ])\n"
   ]
  },
  {
   "cell_type": "markdown",
   "id": "d157c4d6-d6af-4fe9-a2f4-bef12ecb2e46",
   "metadata": {},
   "source": [
    "#### **2. Read CSV File using Pandas**"
   ]
  },
  {
   "cell_type": "code",
   "execution_count": 10,
   "id": "8dd8e016-5869-4f5c-92cb-fe5930b29dea",
   "metadata": {},
   "outputs": [
    {
     "data": {
      "text/html": [
       "<div>\n",
       "<style scoped>\n",
       "    .dataframe tbody tr th:only-of-type {\n",
       "        vertical-align: middle;\n",
       "    }\n",
       "\n",
       "    .dataframe tbody tr th {\n",
       "        vertical-align: top;\n",
       "    }\n",
       "\n",
       "    .dataframe thead th {\n",
       "        text-align: right;\n",
       "    }\n",
       "</style>\n",
       "<table border=\"1\" class=\"dataframe\">\n",
       "  <thead>\n",
       "    <tr style=\"text-align: right;\">\n",
       "      <th></th>\n",
       "      <th>name</th>\n",
       "      <th>age</th>\n",
       "      <th>street</th>\n",
       "      <th>city</th>\n",
       "      <th>state</th>\n",
       "      <th>zip</th>\n",
       "      <th>lng</th>\n",
       "      <th>lat</th>\n",
       "    </tr>\n",
       "  </thead>\n",
       "  <tbody>\n",
       "    <tr>\n",
       "      <th>0</th>\n",
       "      <td>Paul Blake</td>\n",
       "      <td>59</td>\n",
       "      <td>5997 Brooke Fall Suite 431</td>\n",
       "      <td>Martinezview</td>\n",
       "      <td>Alaska</td>\n",
       "      <td>56291</td>\n",
       "      <td>-124.890396</td>\n",
       "      <td>-72.662665</td>\n",
       "    </tr>\n",
       "    <tr>\n",
       "      <th>1</th>\n",
       "      <td>Michele Sparks</td>\n",
       "      <td>25</td>\n",
       "      <td>341 Robert Road Apt. 391</td>\n",
       "      <td>West Joshuaburgh</td>\n",
       "      <td>Ohio</td>\n",
       "      <td>22272</td>\n",
       "      <td>105.276738</td>\n",
       "      <td>-18.659475</td>\n",
       "    </tr>\n",
       "    <tr>\n",
       "      <th>2</th>\n",
       "      <td>Marcus Williams</td>\n",
       "      <td>79</td>\n",
       "      <td>7771 Mccann Route</td>\n",
       "      <td>West Raymond</td>\n",
       "      <td>Nevada</td>\n",
       "      <td>62209</td>\n",
       "      <td>-157.482064</td>\n",
       "      <td>39.809945</td>\n",
       "    </tr>\n",
       "    <tr>\n",
       "      <th>3</th>\n",
       "      <td>Brian Roth</td>\n",
       "      <td>61</td>\n",
       "      <td>77434 Paul Valley Apt. 544</td>\n",
       "      <td>Cuevasmouth</td>\n",
       "      <td>Vermont</td>\n",
       "      <td>90896</td>\n",
       "      <td>-132.806027</td>\n",
       "      <td>15.577752</td>\n",
       "    </tr>\n",
       "    <tr>\n",
       "      <th>4</th>\n",
       "      <td>Kristopher Vega</td>\n",
       "      <td>47</td>\n",
       "      <td>7706 Christy Crest Apt. 778</td>\n",
       "      <td>Mackville</td>\n",
       "      <td>Idaho</td>\n",
       "      <td>34027</td>\n",
       "      <td>49.753220</td>\n",
       "      <td>6.670694</td>\n",
       "    </tr>\n",
       "  </tbody>\n",
       "</table>\n",
       "</div>"
      ],
      "text/plain": [
       "              name  age                       street              city  \\\n",
       "0       Paul Blake   59   5997 Brooke Fall Suite 431      Martinezview   \n",
       "1   Michele Sparks   25     341 Robert Road Apt. 391  West Joshuaburgh   \n",
       "2  Marcus Williams   79            7771 Mccann Route      West Raymond   \n",
       "3       Brian Roth   61   77434 Paul Valley Apt. 544       Cuevasmouth   \n",
       "4  Kristopher Vega   47  7706 Christy Crest Apt. 778         Mackville   \n",
       "\n",
       "     state    zip         lng        lat  \n",
       "0   Alaska  56291 -124.890396 -72.662665  \n",
       "1     Ohio  22272  105.276738 -18.659475  \n",
       "2   Nevada  62209 -157.482064  39.809945  \n",
       "3  Vermont  90896 -132.806027  15.577752  \n",
       "4    Idaho  34027   49.753220   6.670694  "
      ]
     },
     "execution_count": 10,
     "metadata": {},
     "output_type": "execute_result"
    }
   ],
   "source": [
    "import pandas as pd\n",
    "\n",
    "df_csv = pd.read_csv('write_data_to_csv.csv')\n",
    "df_csv.head()"
   ]
  },
  {
   "cell_type": "code",
   "execution_count": 11,
   "id": "635300f1-307d-4eb0-916a-69b4a447ce50",
   "metadata": {},
   "outputs": [
    {
     "name": "stdout",
     "output_type": "stream",
     "text": [
      "<class 'pandas.core.frame.DataFrame'>\n",
      "RangeIndex: 1000 entries, 0 to 999\n",
      "Data columns (total 8 columns):\n",
      " #   Column  Non-Null Count  Dtype  \n",
      "---  ------  --------------  -----  \n",
      " 0   name    1000 non-null   object \n",
      " 1   age     1000 non-null   int64  \n",
      " 2   street  1000 non-null   object \n",
      " 3   city    1000 non-null   object \n",
      " 4   state   1000 non-null   object \n",
      " 5   zip     1000 non-null   int64  \n",
      " 6   lng     1000 non-null   float64\n",
      " 7   lat     1000 non-null   float64\n",
      "dtypes: float64(2), int64(2), object(4)\n",
      "memory usage: 62.6+ KB\n"
     ]
    }
   ],
   "source": [
    "df_csv.info()"
   ]
  },
  {
   "cell_type": "markdown",
   "id": "9e284955-6a78-4324-a05f-de945982669c",
   "metadata": {},
   "source": [
    "#### **3. Write Data to a JSON File**"
   ]
  },
  {
   "cell_type": "code",
   "execution_count": 15,
   "id": "df99362e-a386-44d9-840f-d97ff725298d",
   "metadata": {},
   "outputs": [],
   "source": [
    "from faker import Faker\n",
    "import json\n",
    "\n",
    "# Initialize Faker\n",
    "fake = Faker()\n",
    "\n",
    "# Create a dictionary to hold all the records\n",
    "alldata = {'records': []}\n",
    "\n",
    "# Generate 1000 entries of fake data\n",
    "for _ in range(1000):\n",
    "    data = {\n",
    "        \"name\": fake.name(),\n",
    "        \"age\": fake.random_int(min=18, max=80, step=1),\n",
    "        \"street\": fake.street_address(),\n",
    "        \"city\": fake.city(),\n",
    "        \"state\": fake.state(),\n",
    "        \"zip\": fake.zipcode(),\n",
    "        \"lng\": float(fake.longitude()),\n",
    "        \"lat\": float(fake.latitude())\n",
    "    }\n",
    "    alldata['records'].append(data)\n",
    "\n",
    "# Write the data to a JSON file\n",
    "with open('write_data_to_json.json', 'w') as output:\n",
    "    json.dump(alldata, output, indent=4)\n"
   ]
  },
  {
   "cell_type": "markdown",
   "id": "68ddc329-50ae-4b93-b9bc-76d1e5dbc61c",
   "metadata": {},
   "source": [
    "#### **Read the JSON File using Pandas**"
   ]
  },
  {
   "cell_type": "code",
   "execution_count": 21,
   "id": "e8770298-dd82-47cf-a846-d6aecaf4e51d",
   "metadata": {},
   "outputs": [
    {
     "name": "stdout",
     "output_type": "stream",
     "text": [
      "[{\"records\":{\"name\":\"Desiree Ramos\",\"age\":68,\"street\":\"347 Cross Turnpike Suite 705\",\"city\":\"Singletonside\",\"state\":\"Wyoming\",\"zip\":\"89699\",\"lng\":-62.444957,\"lat\":-23.4954855}},{\"records\":{\"name\":\"Isaac Austin\",\"age\":36,\"street\":\"76744 Burke Loaf\",\"city\":\"East Sheila\",\"state\":\"Florida\",\"zip\":\"73108\",\"lng\":-13.253698,\"lat\":-8.7869115}}]\n"
     ]
    }
   ],
   "source": [
    "df_json = pd.read_json('write_data_to_json.json')\n",
    "# Display the first two rows in JSON format\n",
    "json_output = df_json.head(2).to_json(orient='records')\n",
    "print(json_output)"
   ]
  },
  {
   "cell_type": "code",
   "execution_count": 22,
   "id": "9e0f95c4-0855-4cd9-946e-ea87eda23bca",
   "metadata": {},
   "outputs": [
    {
     "data": {
      "text/html": [
       "<div>\n",
       "<style scoped>\n",
       "    .dataframe tbody tr th:only-of-type {\n",
       "        vertical-align: middle;\n",
       "    }\n",
       "\n",
       "    .dataframe tbody tr th {\n",
       "        vertical-align: top;\n",
       "    }\n",
       "\n",
       "    .dataframe thead th {\n",
       "        text-align: right;\n",
       "    }\n",
       "</style>\n",
       "<table border=\"1\" class=\"dataframe\">\n",
       "  <thead>\n",
       "    <tr style=\"text-align: right;\">\n",
       "      <th></th>\n",
       "      <th>name</th>\n",
       "      <th>age</th>\n",
       "      <th>street</th>\n",
       "      <th>city</th>\n",
       "      <th>state</th>\n",
       "      <th>zip</th>\n",
       "      <th>lng</th>\n",
       "      <th>lat</th>\n",
       "    </tr>\n",
       "  </thead>\n",
       "  <tbody>\n",
       "    <tr>\n",
       "      <th>0</th>\n",
       "      <td>Desiree Ramos</td>\n",
       "      <td>68</td>\n",
       "      <td>347 Cross Turnpike Suite 705</td>\n",
       "      <td>Singletonside</td>\n",
       "      <td>Wyoming</td>\n",
       "      <td>89699</td>\n",
       "      <td>-62.444957</td>\n",
       "      <td>-23.495486</td>\n",
       "    </tr>\n",
       "    <tr>\n",
       "      <th>1</th>\n",
       "      <td>Isaac Austin</td>\n",
       "      <td>36</td>\n",
       "      <td>76744 Burke Loaf</td>\n",
       "      <td>East Sheila</td>\n",
       "      <td>Florida</td>\n",
       "      <td>73108</td>\n",
       "      <td>-13.253698</td>\n",
       "      <td>-8.786912</td>\n",
       "    </tr>\n",
       "    <tr>\n",
       "      <th>2</th>\n",
       "      <td>Sheri Rich</td>\n",
       "      <td>63</td>\n",
       "      <td>813 Wilson Pass Suite 390</td>\n",
       "      <td>New April</td>\n",
       "      <td>Delaware</td>\n",
       "      <td>38140</td>\n",
       "      <td>168.371959</td>\n",
       "      <td>-34.743180</td>\n",
       "    </tr>\n",
       "    <tr>\n",
       "      <th>3</th>\n",
       "      <td>David Payne</td>\n",
       "      <td>23</td>\n",
       "      <td>63530 Jensen Parkway</td>\n",
       "      <td>East Chelseaburgh</td>\n",
       "      <td>Nebraska</td>\n",
       "      <td>99685</td>\n",
       "      <td>-52.382286</td>\n",
       "      <td>2.843711</td>\n",
       "    </tr>\n",
       "    <tr>\n",
       "      <th>4</th>\n",
       "      <td>William Martinez</td>\n",
       "      <td>80</td>\n",
       "      <td>92888 Angela Motorway Suite 432</td>\n",
       "      <td>Annetteton</td>\n",
       "      <td>Delaware</td>\n",
       "      <td>55216</td>\n",
       "      <td>-157.872727</td>\n",
       "      <td>-26.759869</td>\n",
       "    </tr>\n",
       "  </tbody>\n",
       "</table>\n",
       "</div>"
      ],
      "text/plain": [
       "               name  age                           street               city  \\\n",
       "0     Desiree Ramos   68     347 Cross Turnpike Suite 705      Singletonside   \n",
       "1      Isaac Austin   36                 76744 Burke Loaf        East Sheila   \n",
       "2        Sheri Rich   63        813 Wilson Pass Suite 390          New April   \n",
       "3       David Payne   23             63530 Jensen Parkway  East Chelseaburgh   \n",
       "4  William Martinez   80  92888 Angela Motorway Suite 432         Annetteton   \n",
       "\n",
       "      state    zip         lng        lat  \n",
       "0   Wyoming  89699  -62.444957 -23.495486  \n",
       "1   Florida  73108  -13.253698  -8.786912  \n",
       "2  Delaware  38140  168.371959 -34.743180  \n",
       "3  Nebraska  99685  -52.382286   2.843711  \n",
       "4  Delaware  55216 -157.872727 -26.759869  "
      ]
     },
     "execution_count": 22,
     "metadata": {},
     "output_type": "execute_result"
    }
   ],
   "source": [
    "df_json_normalized = pd.json_normalize(df_json['records'])\n",
    "df_json_normalized.head()"
   ]
  },
  {
   "cell_type": "code",
   "execution_count": null,
   "id": "5b637b92-c31c-4761-a92a-457619589ae8",
   "metadata": {},
   "outputs": [],
   "source": []
  }
 ],
 "metadata": {
  "kernelspec": {
   "display_name": "Python 3 (ipykernel)",
   "language": "python",
   "name": "python3"
  },
  "language_info": {
   "codemirror_mode": {
    "name": "ipython",
    "version": 3
   },
   "file_extension": ".py",
   "mimetype": "text/x-python",
   "name": "python",
   "nbconvert_exporter": "python",
   "pygments_lexer": "ipython3",
   "version": "3.12.4"
  }
 },
 "nbformat": 4,
 "nbformat_minor": 5
}
